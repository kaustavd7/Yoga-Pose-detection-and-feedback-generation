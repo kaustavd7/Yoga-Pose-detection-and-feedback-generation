{
 "cells": [
  {
   "cell_type": "code",
   "execution_count": 4,
   "metadata": {},
   "outputs": [],
   "source": [
    "import matplotlib.pyplot as plt\n",
    "import keras\n",
    "from keras.models import Sequential\n",
    "from keras.layers import Dense, Dropout, Flatten, BatchNormalization\n",
    "from keras.layers import GlobalAveragePooling1D\n",
    "from keras.layers import Conv1D, MaxPooling1D, LSTM\n",
    "from keras.layers import TimeDistributed\n",
    "from sklearn.metrics import confusion_matrix\n",
    "from keras.callbacks import ModelCheckpoint\n",
    "from keras.optimizers import Adam\n",
    "import numpy as np\n",
    "import itertools\n",
    "import glob\n",
    "import os\n",
    "import json\n",
    "import sys\n",
    "import time\n",
    "import math"
   ]
  },
  {
   "cell_type": "code",
   "execution_count": 7,
   "metadata": {
    "collapsed": true
   },
   "outputs": [],
   "source": [
    "def get_model():\n",
    "    model = Sequential([\n",
    "        TimeDistributed(Conv1D(16,3, activation='relu', padding = \"same\"),input_shape=[10,33,2]),\n",
    "        TimeDistributed(BatchNormalization()),\n",
    "        #TimeDistributed(MaxPooling1D()),\n",
    "        TimeDistributed(Dropout(0.5)),\n",
    "        #TimeDistributed(Conv1D(64,3, activation='relu',padding = \"same\")),\n",
    "        BatchNormalization(),\n",
    "        #TimeDistributed(Dropout(0.8)),\n",
    "        TimeDistributed(Flatten()),\n",
    "        #TimeDistributed(Dense(30,activation='softmax')),  \n",
    "        LSTM(10,unit_forget_bias = 0.5, return_sequences = True),\n",
    "        TimeDistributed(Dense(6,activation='softmax'))        \n",
    "    ])\n",
    "    adam = Adam(lr=0.0001)\n",
    "    model.compile(loss='categorical_crossentropy',\n",
    "              optimizer= adam,\n",
    "              metrics=['accuracy'])\n",
    "    return model"
   ]
  },
  {
   "cell_type": "code",
   "execution_count": 8,
   "metadata": {
    "collapsed": true
   },
   "outputs": [
    {
     "name": "stderr",
     "output_type": "stream",
     "text": [
      "WARNING:absl:`lr` is deprecated in Keras optimizer, please use `learning_rate` or use the legacy optimizer, e.g.,tf.keras.optimizers.legacy.Adam.\n"
     ]
    }
   ],
   "source": [
    "asanas = {0:'bhujangasan', 1:'padamasan', 2:'shavasan', 3:'tadasan', 4:'trikonasan', 5:'vrikshasan'}\n",
    "\n",
    "model = get_model()\n",
    "model.load_weights(\"weights/val1-67-0.9971.hdf5\")"
   ]
  },
  {
   "cell_type": "code",
   "execution_count": 9,
   "metadata": {},
   "outputs": [],
   "source": [
    "def calculate_angle(a, b, c):\n",
    "    a = np.array(a)  # First\n",
    "    b = np.array(b)  # Mid\n",
    "    c = np.array(c)  # End\n",
    "\n",
    "    radians= np.arctan2(c[1]-b[1],  c[0]-b[0])- np.arctan2(a[1]-b[1],  a[0]-b[0])\n",
    "    angle = np.abs(radians*180/np.pi)\n",
    "\n",
    "    if(angle>180):\n",
    "        angle=360-angle\n",
    "    \n",
    "    return angle\n",
    "    \n",
    "def calculate_len(a,b):\n",
    "    a = np.array(a)  # First point\n",
    "    b = np.array(b)  # Last point\n",
    "    r_sq = (a[0]-b[0])**2 + (a[1]-b[1])**2\n",
    "    if(len(a)==3):\n",
    "        r_sq = r_sq+(a[2]-b[2])**2\n",
    "    r=math.sqrt(r_sq)\n",
    "    return r\n"
   ]
  },
  {
   "cell_type": "code",
   "execution_count": null,
   "metadata": {},
   "outputs": [],
   "source": [
    "# def landmark2list(landmark):\n",
    "#     converted = [landmark.x,landmark.y]\n",
    "#     return converted"
   ]
  },
  {
   "cell_type": "code",
   "execution_count": 10,
   "metadata": {
    "collapsed": true
   },
   "outputs": [],
   "source": [
    "def addToPred(Xch,count,Xarr,Xlist,seq,m):\n",
    "    # print('Hello1')\n",
    "    Xarr[count] = Xch[m]\n",
    "    # print(Xarr.shape)\n",
    "    # print(Xarr[count][11])\n",
    "    # display_angles= calculate_angles_landmark(Xarr,count)\n",
    "    # angles= []\n",
    "    # angles.append(display_angles)\n",
    "    # print(angles)\n",
    "    # print('\\n*****************\\n')\n",
    "    count = count + 1\n",
    "    m=m+1\n",
    "    # print(m,count)\n",
    "    if count == 10:\n",
    "        # print(display_angles)\n",
    "        Xtemp = []\n",
    "        Xtemp.append(Xarr)\n",
    "        Xlist[seq] = Xarr\n",
    "        Xarr = np.empty((10,33,2))\n",
    "        count = 0\n",
    "        seq  = seq + 1\n",
    "        #printing prediction for first frame        \n",
    "        Yht_pred = model.predict(np.asarray(Xtemp))\n",
    "        Y_pred = np.argmax(Yht_pred[0],axis = 1)\n",
    "        Y_pred_asanas = np.array([asanas[a] for a in Y_pred])\n",
    "        print(\"Prediction \" + \" is \" + str(Y_pred_asanas[0]))\n",
    "        \n",
    "    # print(angles)\n",
    "    return (seq, count, Xarr,m)"
   ]
  },
  {
   "cell_type": "code",
   "execution_count": 11,
   "metadata": {
    "collapsed": true
   },
   "outputs": [],
   "source": [
    "def makePred(filename,count,Xarr,Xlist,seq,m):\n",
    "    with open(filename) as json_data:\n",
    "        #     print('1')\n",
    "            d = json.load(json_data)    \n",
    "            X = np.asarray(d)\n",
    "            X1 =  X[:,:,0]\n",
    "            X2 = X[:,:,1]\n",
    "            Xch = np.dstack((X1,X2))\n",
    "            nof= Xch.shape[0]\n",
    "            seq ,count, Xarr,m = addToPred(Xch,count,Xarr,Xlist,seq,m)\n",
    "            json_data.close\n",
    "        #     print('4')\n",
    "    return (seq, count, Xarr,m, nof)"
   ]
  },
  {
   "cell_type": "code",
   "execution_count": 19,
   "metadata": {},
   "outputs": [
    {
     "name": "stdout",
     "output_type": "stream",
     "text": [
      "1/1 [==============================] - 0s 17ms/step\n",
      "Prediction  is shavasan\n",
      "1/1 [==============================] - 0s 17ms/step\n",
      "Prediction  is shavasan\n",
      "1/1 [==============================] - 0s 20ms/step\n",
      "Prediction  is shavasan\n",
      "1/1 [==============================] - 0s 22ms/step\n",
      "Prediction  is shavasan\n",
      "1/1 [==============================] - 0s 22ms/step\n",
      "Prediction  is shavasan\n",
      "1/1 [==============================] - 0s 22ms/step\n",
      "Prediction  is shavasan\n",
      "1/1 [==============================] - 0s 58ms/step\n",
      "Prediction  is shavasan\n",
      "1/1 [==============================] - 0s 20ms/step\n",
      "Prediction  is shavasan\n",
      "1/1 [==============================] - 0s 18ms/step\n",
      "Prediction  is shavasan\n",
      "1/1 [==============================] - 0s 18ms/step\n",
      "Prediction  is shavasan\n",
      "1/1 [==============================] - 0s 20ms/step\n",
      "Prediction  is shavasan\n",
      "1/1 [==============================] - 0s 17ms/step\n",
      "Prediction  is shavasan\n"
     ]
    }
   ],
   "source": [
    "count = 0\n",
    "seq = 0\n",
    "Xarr = np.empty((10,33,2))\n",
    "Xlist = np.empty((1000,10,33,2))\n",
    "#print(Xarr.shape)\n",
    "lastRead = \"none\"\n",
    "m=0\n",
    "\n",
    "# correct_file = 'Correct_asana/intermediate_vriksh2_photo.json'\n",
    "\n",
    "while(True):\n",
    "    #print(count)\n",
    "    list_of_files = glob.glob(\"output/15_Veena_Shav.json\")\n",
    "    latest_file = max(list_of_files, key=os.path.getctime)\n",
    "    if lastRead != latest_file:\n",
    "        try:\n",
    "            seq, count, Xarr,m, nof = makePred(latest_file,count,Xarr,Xlist,seq,m)\n",
    "            # compare_angles(correct_file, latest_file)\n",
    "        except:\n",
    "            print (\"Frame issue\")\n",
    "    if m==nof:\n",
    "        break"
   ]
  }
 ],
 "metadata": {
  "kernelspec": {
   "display_name": "yoga",
   "language": "python",
   "name": "python3"
  },
  "language_info": {
   "codemirror_mode": {
    "name": "ipython",
    "version": 3
   },
   "file_extension": ".py",
   "mimetype": "text/x-python",
   "name": "python",
   "nbconvert_exporter": "python",
   "pygments_lexer": "ipython3",
   "version": "3.11.1"
  }
 },
 "nbformat": 4,
 "nbformat_minor": 2
}
