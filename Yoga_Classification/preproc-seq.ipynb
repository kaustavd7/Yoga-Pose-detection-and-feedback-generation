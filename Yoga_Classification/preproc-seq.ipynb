{
 "cells": [
  {
   "cell_type": "code",
   "execution_count": 18,
   "metadata": {
    "collapsed": true,
    "nbpresent": {
     "id": "8bb395b7-98aa-4727-bfbf-7f1c8dea9893"
    }
   },
   "outputs": [],
   "source": [
    "import numpy as np\n",
    "import json\n",
    "import os\n",
    "import csv"
   ]
  },
  {
   "cell_type": "code",
   "execution_count": 19,
   "metadata": {
    "collapsed": true,
    "nbpresent": {
     "id": "6c5d47e1-1811-4507-aaed-56760af68fc5"
    }
   },
   "outputs": [],
   "source": [
    "#creating training & test data file: 18*2*45*n => 30 frame overlap"
   ]
  },
  {
   "cell_type": "code",
   "execution_count": 20,
   "metadata": {
    "collapsed": true
   },
   "outputs": [],
   "source": [
    "asanas = [\"bhujangasan\", \"padamasan\", \"shavasan\", \"tadasan\", \"trikonasan\", \"vrikshasan\"]\n",
    "data_path = \"D:\\Kaustav_IITK\\Others\\Tushar\\Yoga_data\\pose_data\"\n",
    "# \"D:\\Kaustav_IITK\\Others\\Tushar\\pose_data\\bhujangasan\""
   ]
  },
  {
   "cell_type": "code",
   "execution_count": 21,
   "metadata": {},
   "outputs": [
    {
     "name": "stdout",
     "output_type": "stream",
     "text": [
      "ok\n",
      "ok\n",
      "ok\n",
      "ok\n",
      "ok\n",
      "ok\n"
     ]
    }
   ],
   "source": [
    "train_list = []\n",
    "#list of asanas, each asana has all it's videos, each video has list of stacked 18*2 numpy arrays\n",
    "val_list = []\n",
    "test_list = []\n",
    "# print(\"ok\")\n",
    "for a in asanas:\n",
    "    print(\"ok\")\n",
    "    currAsanaTrain = []\n",
    "    currAsanaVal = []\n",
    "    currAsanaTest = []\n",
    "    path = data_path + \"\\\\\" +  a\n",
    "    for i in range(1,17):\n",
    "        # print(\"ok\")\n",
    "        currVideo = []\n",
    "        start =  str(i) + \"_\"\n",
    "        for filename in os.listdir(path):\n",
    "            data = []\n",
    "            # print(i)\n",
    "            if filename.startswith(start):\n",
    "                #get data from file\n",
    "                # print(\"o\")\n",
    "                with open(path + \"\\\\\" + filename) as json_data:\n",
    "                    # print(\"ok1\")\n",
    "                    d = json.load(json_data)\n",
    "                    # print(d)\n",
    "                    npdata = np.asarray(d)\n",
    "                    # print(npdata.shape)\n",
    "                    # print(npdata.shape)\n",
    "                    Xdata = npdata[:,:,0]\n",
    "                    Ydata = npdata[:,:,1]\n",
    "                    # print(len(Ydata))\n",
    "                    # print(Xdata)\n",
    "                    stk = np.dstack((Xdata, Ydata)) #stack vertically\n",
    "                    currVideo.append(stk)\n",
    "                    # print(stk)\n",
    "                # print(\"ok\")\n",
    "        #print currVideo\n",
    "        if a == 'vrikshasan' and i == 15:\n",
    "            # this one has difference and creates noise\n",
    "            currAsanaTrain.append(currVideo)\n",
    "        elif (i+1)%5 == 0 and len(currVideo) != 0:\n",
    "            currAsanaTest.append(currVideo)\n",
    "        elif (i)%5 == 0 and len(currVideo) != 0:\n",
    "            currAsanaVal.append(currVideo)\n",
    "        elif len(currVideo) != 0:\n",
    "            currAsanaTrain.append(currVideo)\n",
    "        # break\n",
    "        # print(\"0\")\n",
    "    train_list.append(currAsanaTrain)\n",
    "    val_list.append(currAsanaVal)\n",
    "    test_list.append(currAsanaTest)\n",
    "    # break"
   ]
  },
  {
   "cell_type": "code",
   "execution_count": 22,
   "metadata": {},
   "outputs": [
    {
     "name": "stdout",
     "output_type": "stream",
     "text": [
      "6\n",
      "10\n",
      "1\n",
      "54\n",
      "33\n"
     ]
    }
   ],
   "source": [
    "print(len(train_list))\n",
    "print(len(train_list[0]))\n",
    "print(len(train_list[0][0]))\n",
    "print(len(train_list[0][0][0]))\n",
    "print(len(train_list[0][0][0][0]))\n",
    "# len(test_list[0])"
   ]
  },
  {
   "cell_type": "code",
   "execution_count": 23,
   "metadata": {},
   "outputs": [],
   "source": [
    "# flatten_list = (train_list[0][0])\n",
    "# nested_list = [[1, 2, 3], [4, 5, 6], [7, 8, 9]]\n",
    "# flattened_list = [item for sublist in train_list for item in sublist]\n"
   ]
  },
  {
   "cell_type": "code",
   "execution_count": 24,
   "metadata": {},
   "outputs": [],
   "source": [
    "# train_list[1] = [item for sublist in train_list[1] for item in sublist]\n",
    "# train_list[0] = [item for sublist in train_list[0] for item in sublist]"
   ]
  },
  {
   "cell_type": "code",
   "execution_count": 25,
   "metadata": {
    "collapsed": true
   },
   "outputs": [
    {
     "name": "stdout",
     "output_type": "stream",
     "text": [
      "54\n",
      "140\n",
      "121\n",
      "146\n",
      "126\n",
      "125\n",
      "177\n",
      "81\n",
      "92\n",
      "147\n",
      "86\n",
      "133\n",
      "133\n",
      "128\n",
      "131\n",
      "125\n",
      "76\n",
      "140\n",
      "132\n",
      "130\n",
      "159\n",
      "123\n",
      "126\n",
      "160\n",
      "129\n",
      "196\n",
      "90\n",
      "92\n",
      "151\n",
      "155\n",
      "122\n",
      "126\n",
      "128\n",
      "125\n",
      "153\n",
      "91\n",
      "162\n",
      "132\n",
      "151\n",
      "126\n",
      "140\n",
      "137\n",
      "124\n",
      "124\n",
      "122\n",
      "147\n",
      "177\n",
      "155\n",
      "153\n",
      "146\n",
      "134\n",
      "126\n",
      "156\n",
      "154\n",
      "160\n",
      "125\n"
     ]
    }
   ],
   "source": [
    "#videos in datset are 30 fps\n",
    "window_size = 10 # number of frames in 1 test case\n",
    "# overlap_size = 36 # overlap between two testcase\n",
    "train_cases = []\n",
    "train_labels = []\n",
    "sum=0\n",
    "for i, asana in enumerate(train_list):\n",
    "    for vid in asana:\n",
    "        vid = vid[0]\n",
    "        # window_size = ok\n",
    "        print(len((vid)))\n",
    "        sum+=len((vid))\n",
    "        for start in range(0, len(vid) - window_size + 1):  # Adjusted the range to prevent IndexError\n",
    "            currCase = np.empty([window_size,33,2])  # Updated shape to match vid\n",
    "            for index in range(0, window_size):\n",
    "                if(start+index >= len(vid)):\n",
    "                    break # Added this line to prevent IndexError\n",
    "                currCase[index] = vid[start+index]\n",
    "            train_cases.append(currCase)\n",
    "            train_labels.append(i)\n",
    "            "
   ]
  },
  {
   "cell_type": "code",
   "execution_count": 26,
   "metadata": {},
   "outputs": [
    {
     "name": "stdout",
     "output_type": "stream",
     "text": [
      "6896\n",
      "6896\n"
     ]
    }
   ],
   "source": [
    "if train_cases and train_labels:\n",
    "    print(len(train_cases))\n",
    "    print(len(train_labels))\n",
    "else:\n",
    "    print(\"train_cases or train_labels is empty\")"
   ]
  },
  {
   "cell_type": "code",
   "execution_count": 27,
   "metadata": {
    "collapsed": true
   },
   "outputs": [],
   "source": [
    "test_cases = []\n",
    "test_labels = []\n",
    "\n",
    "for i, asana in enumerate(test_list):\n",
    "    for vid in asana:\n",
    "        vid = vid[0]\n",
    "        for start in range(0, len(vid) - window_size + 1):\n",
    "            currCase = np.empty([window_size,33,2])\n",
    "            for index in range(0,window_size):\n",
    "                if(start+index >= len(vid)):\n",
    "                    break # Added this line to prevent IndexError\n",
    "                currCase[index] = vid[start+index]\n",
    "            test_cases.append(currCase)\n",
    "            test_labels.append(i)"
   ]
  },
  {
   "cell_type": "code",
   "execution_count": 28,
   "metadata": {},
   "outputs": [
    {
     "name": "stdout",
     "output_type": "stream",
     "text": [
      "2030\n",
      "2030\n"
     ]
    }
   ],
   "source": [
    "print (len(test_cases))\n",
    "print (len(test_labels))"
   ]
  },
  {
   "cell_type": "code",
   "execution_count": 29,
   "metadata": {
    "collapsed": true
   },
   "outputs": [],
   "source": [
    "val_cases = []\n",
    "val_labels = []\n",
    "for i, asana in enumerate(val_list):\n",
    "    for vid in asana:\n",
    "        vid = vid[0]\n",
    "        for start in range(0, len(vid) - window_size + 1):\n",
    "            currCase = np.empty([window_size,33,2])\n",
    "            for index in range(0,window_size):\n",
    "                if(start+index >= len(vid)):\n",
    "                    break # Added this line to prevent IndexError\n",
    "                currCase[index] = vid[start+index]\n",
    "            val_cases.append(currCase)\n",
    "            val_labels.append(i)"
   ]
  },
  {
   "cell_type": "code",
   "execution_count": 30,
   "metadata": {},
   "outputs": [
    {
     "name": "stdout",
     "output_type": "stream",
     "text": [
      "2092\n",
      "2092\n"
     ]
    }
   ],
   "source": [
    "print (len(val_cases))\n",
    "print (len(val_labels))"
   ]
  },
  {
   "cell_type": "code",
   "execution_count": 31,
   "metadata": {
    "collapsed": true
   },
   "outputs": [],
   "source": [
    "#convert to numpy array and save\n",
    "train_arr = np.empty([len(train_cases), window_size, 33, 2])\n",
    "for i, ele in enumerate(train_cases):\n",
    "    train_arr[i] = ele"
   ]
  },
  {
   "cell_type": "code",
   "execution_count": 32,
   "metadata": {
    "collapsed": true
   },
   "outputs": [],
   "source": [
    "test_arr = np.empty([len(test_cases), window_size, 33, 2])\n",
    "for i, ele in enumerate(test_cases):\n",
    "    test_arr[i] = ele"
   ]
  },
  {
   "cell_type": "code",
   "execution_count": 33,
   "metadata": {
    "collapsed": true
   },
   "outputs": [],
   "source": [
    "val_arr = np.empty([len(val_cases), window_size, 33, 2])\n",
    "for i, ele in enumerate(val_cases):\n",
    "    val_arr[i] = ele"
   ]
  },
  {
   "cell_type": "code",
   "execution_count": 34,
   "metadata": {
    "collapsed": true
   },
   "outputs": [],
   "source": [
    "np.save(\"trainX\", train_arr)\n",
    "np.save(\"testX\", test_arr)\n",
    "np.save(\"valX\", val_arr)\n",
    "np.save(\"trainY\", np.asarray(train_labels))\n",
    "np.save(\"testY\", np.asarray(test_labels))\n",
    "np.save(\"valY\", np.asarray(val_labels))"
   ]
  },
  {
   "cell_type": "code",
   "execution_count": null,
   "metadata": {
    "collapsed": true
   },
   "outputs": [],
   "source": []
  },
  {
   "cell_type": "code",
   "execution_count": null,
   "metadata": {
    "collapsed": true
   },
   "outputs": [],
   "source": []
  }
 ],
 "metadata": {
  "kernelspec": {
   "display_name": "Python 3",
   "language": "python",
   "name": "python3"
  },
  "language_info": {
   "codemirror_mode": {
    "name": "ipython",
    "version": 3
   },
   "file_extension": ".py",
   "mimetype": "text/x-python",
   "name": "python",
   "nbconvert_exporter": "python",
   "pygments_lexer": "ipython3",
   "version": "3.11.1"
  }
 },
 "nbformat": 4,
 "nbformat_minor": 2
}
