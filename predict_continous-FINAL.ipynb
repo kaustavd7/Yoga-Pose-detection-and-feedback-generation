{
 "cells": [
  {
   "cell_type": "code",
   "execution_count": 62,
   "metadata": {},
   "outputs": [],
   "source": [
    "import matplotlib.pyplot as plt\n",
    "import keras\n",
    "from keras.models import Sequential\n",
    "from keras.layers import Dense, Dropout, Flatten, BatchNormalization\n",
    "from keras.layers import GlobalAveragePooling1D\n",
    "from keras.layers import Conv1D, MaxPooling1D, LSTM\n",
    "from keras.layers import TimeDistributed\n",
    "from sklearn.metrics import confusion_matrix\n",
    "from keras.callbacks import ModelCheckpoint\n",
    "from keras.optimizers import Adam\n",
    "import numpy as np\n",
    "import itertools\n",
    "import glob\n",
    "import os\n",
    "import json\n",
    "import sys\n",
    "import time"
   ]
  },
  {
   "cell_type": "code",
   "execution_count": 63,
   "metadata": {
    "collapsed": true
   },
   "outputs": [],
   "source": [
    "def get_model():\n",
    "    model = Sequential([\n",
    "        TimeDistributed(Conv1D(16,3, activation='relu', padding = \"same\"),input_shape=[10,33,2]),\n",
    "        TimeDistributed(BatchNormalization()),\n",
    "        #TimeDistributed(MaxPooling1D()),\n",
    "        TimeDistributed(Dropout(0.5)),\n",
    "        #TimeDistributed(Conv1D(64,3, activation='relu',padding = \"same\")),\n",
    "        BatchNormalization(),\n",
    "        #TimeDistributed(Dropout(0.8)),\n",
    "        TimeDistributed(Flatten()),\n",
    "        #TimeDistributed(Dense(30,activation='softmax')),  \n",
    "        LSTM(20,unit_forget_bias = 0.5, return_sequences = True),\n",
    "        TimeDistributed(Dense(6,activation='softmax'))        \n",
    "    ])\n",
    "    adam = Adam(learning_rate=0.0001)\n",
    "    model.compile(loss='categorical_crossentropy',\n",
    "              optimizer= adam,\n",
    "              metrics=['accuracy'])\n",
    "    return model"
   ]
  },
  {
   "cell_type": "code",
   "execution_count": 64,
   "metadata": {
    "collapsed": true
   },
   "outputs": [],
   "source": [
    "asanas = {0:'bhujangasan', 1:'padamasan', 2:'shavasan', 3:'tadasan', 4:'trikonasan', 5:'vrikshasan'}\n",
    "\n",
    "model = get_model()\n",
    "model.load_weights(\"weights/val1-100-0.9945.hdf5\", by_name=True)\n"
   ]
  },
  {
   "cell_type": "code",
   "execution_count": 65,
   "metadata": {
    "collapsed": true
   },
   "outputs": [],
   "source": [
    "def addToPred(Xch,count,Xarr,Xlist,seq):\n",
    "    Xarr[count] = Xch\n",
    "    count = count + 1\n",
    "    #print(count)\n",
    "    if count == 10:\n",
    "        #print('Hello2')\n",
    "        Xtemp = []\n",
    "        Xtemp.append(Xarr)\n",
    "        Xlist[seq] = Xarr\n",
    "        Xarr = np.empty((10,33,2))\n",
    "        count = 0\n",
    "        seq  = seq + 1\n",
    "        #printing prediction for first frame        \n",
    "        Yht_pred = model.predict(np.asarray(Xtemp))\n",
    "        Y_pred = np.argmax(Yht_pred[0],axis = 1)\n",
    "        Y_pred_asanas = np.array([asanas[a] for a in Y_pred])\n",
    "        \n",
    "        print(\"Prediction \" + \" is \" + str(Y_pred_asanas[0]))\n",
    "        \n",
    "    #print(count)\n",
    "    return seq, count , Xarr"
   ]
  },
  {
   "cell_type": "code",
   "execution_count": 66,
   "metadata": {
    "collapsed": true
   },
   "outputs": [],
   "source": [
    "def makePred(filename,count,Xarr,Xlist,seq):\n",
    "    with open(filename) as json_data:\n",
    "        d = json.load(json_data)\n",
    "        for i in range(0, len(d)):\n",
    "            A = []\n",
    "            A = d[i]\n",
    "            #A = [person['pose_keypoints_2d']]                \n",
    "            X = np.asarray(A)\n",
    "            X1 =  X[:,0]\n",
    "            X2 = X[:,1]\n",
    "            Xch = np.dstack((X1,X2))\n",
    "            seq ,count, Xarr = addToPred(Xch,count,Xarr,Xlist,seq)\n",
    "            json_data.close\n",
    "    return seq, count, Xarr"
   ]
  },
  {
   "cell_type": "code",
   "execution_count": 67,
   "metadata": {},
   "outputs": [
    {
     "name": "stdout",
     "output_type": "stream",
     "text": [
      "1/1 [==============================] - 1s 1s/step\n",
      "Prediction  is shavasan\n",
      "1/1 [==============================] - 0s 33ms/step\n",
      "Prediction  is shavasan\n",
      "1/1 [==============================] - 0s 38ms/step\n",
      "Prediction  is shavasan\n",
      "1/1 [==============================] - 0s 117ms/step\n",
      "Prediction  is shavasan\n",
      "1/1 [==============================] - 0s 30ms/step\n",
      "Prediction  is shavasan\n",
      "1/1 [==============================] - 0s 29ms/step\n",
      "Prediction  is shavasan\n",
      "1/1 [==============================] - 0s 29ms/step\n",
      "Prediction  is shavasan\n",
      "1/1 [==============================] - 0s 37ms/step\n",
      "Prediction  is shavasan\n",
      "1/1 [==============================] - 0s 27ms/step\n",
      "Prediction  is shavasan\n",
      "1/1 [==============================] - 0s 23ms/step\n",
      "Prediction  is shavasan\n",
      "1/1 [==============================] - 0s 21ms/step\n",
      "Prediction  is shavasan\n",
      "1/1 [==============================] - 0s 25ms/step\n",
      "Prediction  is shavasan\n",
      "1/1 [==============================] - 0s 24ms/step\n",
      "Prediction  is shavasan\n",
      "1/1 [==============================] - 0s 23ms/step\n",
      "Prediction  is shavasan\n",
      "1/1 [==============================] - 0s 30ms/step\n",
      "Prediction  is shavasan\n",
      "1/1 [==============================] - 0s 34ms/step\n",
      "Prediction  is shavasan\n",
      "1/1 [==============================] - 0s 36ms/step\n",
      "Prediction  is shavasan\n"
     ]
    }
   ],
   "source": [
    "count = 0\n",
    "seq = 0\n",
    "Xarr = np.empty((10,33,2))\n",
    "Xlist = np.empty((1000,10,33,2))\n",
    "#print(Xarr.shape)\n",
    "lastRead = \"none\"\n",
    "timeout = time.time() + 1\n",
    "latest_file = None  # Define the variable latest_file\n",
    "\n",
    "# while(True):\n",
    "#     #print(count)\n",
    "#     list_of_files = glob.glob(\"output/5_Dristi_Shav.json\")\n",
    "#     if list_of_files:  # Check if the list of files is not empty\n",
    "#         latest_file = max(list_of_files, key=os.path.getctime)\n",
    "#         if lastRead != latest_file:\n",
    "#             try:\n",
    "#                 seq, count, Xarr = makePred(latest_file,count,Xarr,Xlist,seq)\n",
    "#                 timeout = time.time() + 5 # will give result if no new file for 5 secs\n",
    "#             except:\n",
    "#                 print (\"Frame issue\")\n",
    "#     if time.time() > timeout:\n",
    "#         break\n",
    "#     lastRead = latest_file\n",
    "while(True):\n",
    "    #print(count)\n",
    "    latest_file = max(glob.glob(\"output/*\"), key=os.path.getctime)\n",
    "    seq, Xarr, count = makePred(latest_file,count,Xarr,Xlist,seq)      \n",
    "    if time.time() > timeout:\n",
    "        break"
   ]
  },
  {
   "cell_type": "code",
   "execution_count": 68,
   "metadata": {},
   "outputs": [
    {
     "name": "stdout",
     "output_type": "stream",
     "text": [
      "1/1 [==============================] - 0s 27ms/step\n",
      "Prediction  is shavasan\n",
      "1/1 [==============================] - 0s 31ms/step\n",
      "Prediction  is shavasan\n",
      "1/1 [==============================] - 0s 24ms/step\n",
      "Prediction  is shavasan\n",
      "1/1 [==============================] - 0s 26ms/step\n",
      "Prediction  is shavasan\n",
      "1/1 [==============================] - 0s 32ms/step\n",
      "Prediction  is shavasan\n",
      "1/1 [==============================] - 0s 39ms/step\n",
      "Prediction  is shavasan\n",
      "1/1 [==============================] - 0s 33ms/step\n",
      "Prediction  is shavasan\n",
      "1/1 [==============================] - 0s 30ms/step\n",
      "Prediction  is shavasan\n",
      "1/1 [==============================] - 0s 33ms/step\n",
      "Prediction  is shavasan\n",
      "1/1 [==============================] - 0s 30ms/step\n",
      "Prediction  is shavasan\n",
      "1/1 [==============================] - 0s 32ms/step\n",
      "Prediction  is shavasan\n",
      "1/1 [==============================] - 0s 33ms/step\n",
      "Prediction  is shavasan\n",
      "1/1 [==============================] - 0s 29ms/step\n",
      "Prediction  is shavasan\n",
      "1/1 [==============================] - 0s 30ms/step\n",
      "Prediction  is shavasan\n",
      "1/1 [==============================] - 0s 33ms/step\n",
      "Prediction  is shavasan\n",
      "1/1 [==============================] - 0s 26ms/step\n",
      "Prediction  is shavasan\n",
      "1/1 [==============================] - 0s 30ms/step\n",
      "Prediction  is shavasan\n"
     ]
    }
   ],
   "source": [
    "import os\n",
    "\n",
    "# ...\n",
    "\n",
    "count = 0\n",
    "seq = 0\n",
    "Xarr = np.empty((10,33,2))\n",
    "Xlist = np.empty((1000,10,33,2))\n",
    "#print(Xarr.shape)\n",
    "lastRead = \"none\"\n",
    "timeout = time.time() + 1\n",
    "latest_file = None  # Define the variable latest_file\n",
    "\n",
    "while(True):\n",
    "    #print(count)\n",
    "    try:\n",
    "        list_of_files = glob.glob(\"output/*\")\n",
    "    except FileNotFoundError:\n",
    "        # Handle the exception when the directory \"output\" does not exist\n",
    "        print(\"Directory 'output' does not exist.\")\n",
    "        break\n",
    "    \n",
    "    if list_of_files:  # Check if the list of files is not empty\n",
    "        latest_file = max(list_of_files, key=os.path.getctime)\n",
    "        if lastRead != latest_file:\n",
    "            try:\n",
    "                seq, count, Xarr = makePred(latest_file,count,Xarr,Xlist,seq)\n",
    "                timeout = time.time() + 5 # will give result if no new file for 5 secs\n",
    "            except:\n",
    "                print (\"Frame issue\")\n",
    "    if time.time() > timeout:\n",
    "        break\n",
    "    lastRead = latest_file\n"
   ]
  }
 ],
 "metadata": {
  "kernelspec": {
   "display_name": "Python 3",
   "language": "python",
   "name": "python3"
  },
  "language_info": {
   "codemirror_mode": {
    "name": "ipython",
    "version": 3
   },
   "file_extension": ".py",
   "mimetype": "text/x-python",
   "name": "python",
   "nbconvert_exporter": "python",
   "pygments_lexer": "ipython3",
   "version": "3.11.1"
  }
 },
 "nbformat": 4,
 "nbformat_minor": 2
}
